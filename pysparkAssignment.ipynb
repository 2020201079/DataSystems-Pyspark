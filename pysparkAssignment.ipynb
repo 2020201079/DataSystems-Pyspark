{
 "cells": [
  {
   "cell_type": "code",
   "execution_count": 7,
   "id": "attached-injection",
   "metadata": {},
   "outputs": [
    {
     "data": {
      "text/plain": [
       "'/opt/spark/spark-3.1.1-bin-hadoop2.7'"
      ]
     },
     "execution_count": 7,
     "metadata": {},
     "output_type": "execute_result"
    }
   ],
   "source": [
    "import findspark\n",
    "import os\n",
    "findspark.find()"
   ]
  },
  {
   "cell_type": "code",
   "execution_count": 8,
   "id": "stuck-finance",
   "metadata": {},
   "outputs": [],
   "source": [
    "findspark.init()"
   ]
  },
  {
   "cell_type": "code",
   "execution_count": 9,
   "id": "coral-pixel",
   "metadata": {},
   "outputs": [],
   "source": [
    "from pyspark.sql import SparkSession\n",
    "from pyspark.sql.functions import col,asc,desc"
   ]
  },
  {
   "cell_type": "code",
   "execution_count": 10,
   "id": "happy-diana",
   "metadata": {},
   "outputs": [],
   "source": [
    "spark = SparkSession.builder.appName(\"assign5\").config(\"spark.executor.instances\", 4).config(\"spark.executor.cores\", 4).getOrCreate()"
   ]
  },
  {
   "cell_type": "code",
   "execution_count": 11,
   "id": "formed-spelling",
   "metadata": {},
   "outputs": [
    {
     "name": "stdout",
     "output_type": "stream",
     "text": [
      "Dataset/airports.csv\r\n"
     ]
    }
   ],
   "source": [
    "!ls Dataset/airports.csv"
   ]
  },
  {
   "cell_type": "code",
   "execution_count": 12,
   "id": "blocked-gravity",
   "metadata": {},
   "outputs": [],
   "source": [
    "df = spark.read.csv(\"Dataset/airports.csv\",header=True)"
   ]
  },
  {
   "cell_type": "code",
   "execution_count": 13,
   "id": "angry-range",
   "metadata": {},
   "outputs": [
    {
     "name": "stdout",
     "output_type": "stream",
     "text": [
      "+----+-------------+--------------------+--------+---------+-------+------+\n",
      "|  ID|         TYPE|                NAME|LATITUDE|LONGITUDE|COUNTRY|REGION|\n",
      "+----+-------------+--------------------+--------+---------+-------+------+\n",
      "|6523|     heliport|   Total Rf Heliport|      40|      -75|     US| US-PA|\n",
      "|6524|small_airport|        Lowell Field|      60|     -152|     US| US-AK|\n",
      "|6525|small_airport|        Epps Airpark|      35|      -87|     US| US-AL|\n",
      "|6526|     heliport|Newport Hospital ...|      36|      -91|     US| US-AR|\n",
      "|6527|small_airport|      Cordes Airport|      34|     -112|     US| US-AZ|\n",
      "+----+-------------+--------------------+--------+---------+-------+------+\n",
      "only showing top 5 rows\n",
      "\n"
     ]
    }
   ],
   "source": [
    "df.show(5)"
   ]
  },
  {
   "cell_type": "code",
   "execution_count": 14,
   "id": "gorgeous-terminal",
   "metadata": {},
   "outputs": [],
   "source": [
    "df_country_count = df.groupBy(\"COUNTRY\").count()"
   ]
  },
  {
   "cell_type": "code",
   "execution_count": 29,
   "id": "ceramic-simple",
   "metadata": {},
   "outputs": [
    {
     "name": "stdout",
     "output_type": "stream",
     "text": [
      "Collecting pandas\n",
      "  Downloading pandas-1.2.3-cp38-cp38-manylinux1_x86_64.whl (9.7 MB)\n",
      "\u001b[K     |████████████████████████████████| 9.7 MB 3.8 MB/s eta 0:00:01     |███▋                            | 1.1 MB 782 kB/s eta 0:00:11     |████                            | 1.2 MB 782 kB/s eta 0:00:11     |████████▍                       | 2.5 MB 1.8 MB/s eta 0:00:05     |█████████████                   | 4.0 MB 1.8 MB/s eta 0:00:04     |██████████████▌                 | 4.4 MB 3.8 MB/s eta 0:00:02     |███████████████                 | 4.5 MB 3.8 MB/s eta 0:00:02     |███████████████████▍            | 5.9 MB 3.8 MB/s eta 0:00:01     |████████████████████████████▍   | 8.6 MB 3.8 MB/s eta 0:00:01     |██████████████████████████████  | 9.1 MB 3.8 MB/s eta 0:00:01\n",
      "\u001b[?25hRequirement already satisfied: python-dateutil>=2.7.3 in /usr/lib/python3/dist-packages (from pandas) (2.7.3)\n",
      "Requirement already satisfied: pytz>=2017.3 in /usr/lib/python3/dist-packages (from pandas) (2019.3)\n",
      "Collecting numpy>=1.16.5\n",
      "  Downloading numpy-1.20.2-cp38-cp38-manylinux2010_x86_64.whl (15.4 MB)\n",
      "\u001b[K     |████████████████████████████████| 15.4 MB 3.8 MB/s eta 0:00:01    |██▍                             | 1.2 MB 4.2 MB/s eta 0:00:04     |███▌                            | 1.7 MB 4.2 MB/s eta 0:00:04     |████▋                           | 2.2 MB 4.2 MB/s eta 0:00:04     |███████████▌                    | 5.5 MB 5.3 MB/s eta 0:00:02:02     |███████████████████████         | 11.0 MB 3.8 MB/s eta 0:00:02     |█████████████████████████▋      | 12.3 MB 3.8 MB/s eta 0:00:01\n",
      "\u001b[?25hInstalling collected packages: numpy, pandas\n",
      "Successfully installed numpy-1.20.2 pandas-1.2.3\n"
     ]
    }
   ],
   "source": [
    "!pip3 install pandas\n"
   ]
  },
  {
   "cell_type": "code",
   "execution_count": 30,
   "id": "economic-memorabilia",
   "metadata": {},
   "outputs": [],
   "source": [
    "import pandas as pd\n",
    "pandas_df=df_country_count.toPandas()"
   ]
  },
  {
   "cell_type": "code",
   "execution_count": 35,
   "id": "progressive-malpractice",
   "metadata": {},
   "outputs": [],
   "source": [
    "with open(\"output1.txt\", 'a') as f:\n",
    "    f.write(\n",
    "        pandas_df.to_string(header = False, index = False)\n",
    "    )"
   ]
  },
  {
   "cell_type": "code",
   "execution_count": 18,
   "id": "creative-institute",
   "metadata": {},
   "outputs": [
    {
     "name": "stdout",
     "output_type": "stream",
     "text": [
      "+-------+-----+\n",
      "|COUNTRY|count|\n",
      "+-------+-----+\n",
      "|     DZ|   56|\n",
      "|     LT|   38|\n",
      "|     MM|   76|\n",
      "|     CI|   23|\n",
      "|     TC|    7|\n",
      "|     AZ|   35|\n",
      "|     FI|  105|\n",
      "|     SC|   16|\n",
      "|     PM|    2|\n",
      "|     UA|  137|\n",
      "|     ZM|   74|\n",
      "|     RO|   24|\n",
      "|     KI|   20|\n",
      "|     SL|   10|\n",
      "|     SB|   33|\n",
      "|     NL|   78|\n",
      "|     LA|   19|\n",
      "|     BS|   62|\n",
      "|     BW|   34|\n",
      "|     MN|   22|\n",
      "+-------+-----+\n",
      "only showing top 20 rows\n",
      "\n"
     ]
    }
   ],
   "source": [
    "df_country_count.show()"
   ]
  },
  {
   "cell_type": "code",
   "execution_count": 20,
   "id": "atmospheric-monte",
   "metadata": {},
   "outputs": [],
   "source": [
    "df_country_count.rdd.map(lambda x : str(x)).saveAsTextFile('output')"
   ]
  },
  {
   "cell_type": "code",
   "execution_count": 42,
   "id": "empirical-warehouse",
   "metadata": {},
   "outputs": [
    {
     "name": "stdout",
     "output_type": "stream",
     "text": [
      "+-------+-----+\n",
      "|COUNTRY|count|\n",
      "+-------+-----+\n",
      "|     DZ|   56|\n",
      "|     LT|   38|\n",
      "|     MM|   76|\n",
      "|     CI|   23|\n",
      "|     TC|    7|\n",
      "|     AZ|   35|\n",
      "|     FI|  105|\n",
      "|     SC|   16|\n",
      "|     PM|    2|\n",
      "|     UA|  137|\n",
      "|     ZM|   74|\n",
      "|     RO|   24|\n",
      "|     KI|   20|\n",
      "|     SL|   10|\n",
      "|     SB|   33|\n",
      "|     NL|   78|\n",
      "|     LA|   19|\n",
      "|     BS|   62|\n",
      "|     BW|   34|\n",
      "|     MN|   22|\n",
      "|     AM|   13|\n",
      "|     PL|  168|\n",
      "|     RE|    2|\n",
      "|     PS|    5|\n",
      "|     MK|   13|\n",
      "|     MX|  173|\n",
      "|     PF|   49|\n",
      "|     GL|   80|\n",
      "|     TV|    1|\n",
      "|     EE|   25|\n",
      "|     VG|    3|\n",
      "|     SM|    2|\n",
      "|     CN|  305|\n",
      "|     UM|    6|\n",
      "|     AT|  134|\n",
      "|     NA|  220|\n",
      "|     IQ|   75|\n",
      "|     RU|  910|\n",
      "|     CG|   49|\n",
      "|     AD|    1|\n",
      "+-------+-----+\n",
      "only showing top 40 rows\n",
      "\n"
     ]
    }
   ],
   "source": [
    "df_country_count.show(40)"
   ]
  },
  {
   "cell_type": "code",
   "execution_count": 49,
   "id": "interior-harmony",
   "metadata": {},
   "outputs": [],
   "source": [
    "df_country_count_sorted = df_country_count.sort(col(\"count\").desc()).limit(3)"
   ]
  },
  {
   "cell_type": "code",
   "execution_count": 51,
   "id": "considerable-healing",
   "metadata": {},
   "outputs": [
    {
     "name": "stdout",
     "output_type": "stream",
     "text": [
      "+-------+-----+\n",
      "|COUNTRY|count|\n",
      "+-------+-----+\n",
      "|     US|21403|\n",
      "|     BR| 3799|\n",
      "|     CA| 2394|\n",
      "+-------+-----+\n",
      "\n"
     ]
    }
   ],
   "source": [
    "df_country_count_sorted.show()"
   ]
  },
  {
   "cell_type": "code",
   "execution_count": 60,
   "id": "printable-andorra",
   "metadata": {},
   "outputs": [],
   "source": [
    "df_lt_long = df.where((col(\"LATITUDE\")>=10) & (col(\"LATITUDE\")<=90) & (col(\"LONGITUDE\")>=-90) & (col(\"LONGITUDE\")<=-10))"
   ]
  },
  {
   "cell_type": "code",
   "execution_count": 61,
   "id": "eleven-words",
   "metadata": {},
   "outputs": [
    {
     "name": "stdout",
     "output_type": "stream",
     "text": [
      "+----+-------------+--------------------+--------+---------+-------+------+\n",
      "|  ID|         TYPE|                NAME|LATITUDE|LONGITUDE|COUNTRY|REGION|\n",
      "+----+-------------+--------------------+--------+---------+-------+------+\n",
      "|6523|     heliport|   Total Rf Heliport|      40|      -75|     US| US-PA|\n",
      "|6525|small_airport|        Epps Airpark|      35|      -87|     US| US-AL|\n",
      "|6531|small_airport| Grass Patch Airport|      29|      -82|     US| US-FL|\n",
      "|6532|     heliport|  Ringhaver Heliport|      29|      -82|     US| US-FL|\n",
      "|6533|small_airport|   River Oak Airport|      27|      -81|     US| US-FL|\n",
      "|6534|small_airport|    Lt World Airport|      34|      -84|     US| US-GA|\n",
      "|6535|     heliport|    Caffrey Heliport|      34|      -85|     US| US-GA|\n",
      "|6538|     heliport|Bailey Generation...|      42|      -87|     US| US-IN|\n",
      "|6539|small_airport|      Hammer Airport|      42|      -90|     US| US-IL|\n",
      "|6540|     heliport|St Mary Medical C...|      42|      -87|     US| US-IN|\n",
      "|6541|small_airport|Hayenga's Cant Fi...|      40|      -89|     US| US-IL|\n",
      "|6543|small_airport|Robbins Roost Air...|      37|      -85|     US| US-KY|\n",
      "|6544|     heliport|Ac & R Components...|      40|      -90|     US| US-IL|\n",
      "|6546|small_airport|        Slater Field|      39|      -76|     US| US-MD|\n",
      "|6547|     heliport|Dow Chemical Heli...|      44|      -86|     US| US-MI|\n",
      "|6551|small_airport|       Bucks Airport|      39|      -75|     US| US-NJ|\n",
      "|6552|small_airport|North Raleigh Air...|      36|      -78|     US| US-NC|\n",
      "|6553|     heliport|Colgate-Piscatawa...|      41|      -74|     US| US-NJ|\n",
      "|6554|small_airport|      Weiss Airfield|      43|      -77|     US| US-NY|\n",
      "|6555|small_airport|      Exit 3 Airport|      42|      -84|     US| US-OH|\n",
      "+----+-------------+--------------------+--------+---------+-------+------+\n",
      "only showing top 20 rows\n",
      "\n"
     ]
    }
   ],
   "source": [
    "df_lt_long.show()"
   ]
  }
 ],
 "metadata": {
  "kernelspec": {
   "display_name": "Python 3",
   "language": "python",
   "name": "python3"
  },
  "language_info": {
   "codemirror_mode": {
    "name": "ipython",
    "version": 3
   },
   "file_extension": ".py",
   "mimetype": "text/x-python",
   "name": "python",
   "nbconvert_exporter": "python",
   "pygments_lexer": "ipython3",
   "version": "3.8.5"
  }
 },
 "nbformat": 4,
 "nbformat_minor": 5
}
